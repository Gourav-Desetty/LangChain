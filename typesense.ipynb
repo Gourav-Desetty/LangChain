{
 "cells": [
  {
   "cell_type": "markdown",
   "id": "75d0e318",
   "metadata": {},
   "source": [
    "## RAG Application using typesense"
   ]
  },
  {
   "cell_type": "code",
   "execution_count": 2,
   "id": "56143751",
   "metadata": {},
   "outputs": [
    {
     "name": "stderr",
     "output_type": "stream",
     "text": [
      "python-dotenv could not parse statement starting at line 5\n"
     ]
    },
    {
     "data": {
      "text/plain": [
       "True"
      ]
     },
     "execution_count": 2,
     "metadata": {},
     "output_type": "execute_result"
    }
   ],
   "source": [
    "import typesense\n",
    "import os\n",
    "from dotenv import load_dotenv\n",
    "load_dotenv()"
   ]
  },
  {
   "cell_type": "code",
   "execution_count": null,
   "id": "21bfe179",
   "metadata": {},
   "outputs": [],
   "source": [
    "client = typesense.Client({\n",
    "    'nodes': [{\n",
    "        'host': 'cfa0h82do73y6um9p-1.a1.typesense.net',\n",
    "        'port': '443',\n",
    "        'protocol': 'https'\n",
    "    }],\n",
    "    'api_key': 'WJnmvDQwVYpRRhe9Ur7J9ffZQEhO8Aer',\n",
    "    'connection_timeout_seconds': 10\n",
    "})\n",
    "\n",
    "books_schema = {\n",
    "    'name': 'books',\n",
    "    'fields': [\n",
    "        {'name': 'title', 'type': 'string'},\n",
    "        {'name': 'authors', 'type': 'string[]', 'facet': True},\n",
    "        {'name': 'publication_year', 'type': 'int32', 'facet': True},\n",
    "        {'name': 'ratings_count', 'type': 'int32'},\n",
    "        {'name': 'average_rating', 'type': 'float'}\n",
    "    ],\n",
    "    'default_sorting_field': 'ratings_count'\n",
    "}\n",
    "\n",
    "print(client.collections.create(books_schema))"
   ]
  },
  {
   "cell_type": "code",
   "execution_count": 19,
   "id": "9f64534d",
   "metadata": {},
   "outputs": [
    {
     "data": {
      "text/plain": [
       "(<typesense.client.Client at 0x1ed1f09d700>,\n",
       " {'name': 'books',\n",
       "  'fields': [{'name': 'title', 'type': 'string'},\n",
       "   {'name': 'authors', 'type': 'string[]', 'facet': True},\n",
       "   {'name': 'publication_year', 'type': 'int32', 'facet': True},\n",
       "   {'name': 'ratings_count', 'type': 'int32'},\n",
       "   {'name': 'average_rating', 'type': 'float'}],\n",
       "  'default_sorting_field': 'ratings_count'})"
      ]
     },
     "execution_count": 19,
     "metadata": {},
     "output_type": "execute_result"
    }
   ],
   "source": [
    "client, books_schema"
   ]
  },
  {
   "cell_type": "code",
   "execution_count": 20,
   "id": "51724ddd",
   "metadata": {},
   "outputs": [],
   "source": [
    "batch_size = 100\n",
    "batch = []\n",
    "\n",
    "with open('books.jsonl', 'r', encoding = 'utf-8') as f:\n",
    "    data = f.read()\n",
    "    client.collections['books'].documents.import_(data)"
   ]
  },
  {
   "cell_type": "code",
   "execution_count": 23,
   "id": "145453e5",
   "metadata": {},
   "outputs": [
    {
     "data": {
      "text/plain": [
       "{'facet_counts': [],\n",
       " 'found': 1,\n",
       " 'hits': [{'document': {'authors': ['J.K. Rowling', ' Mary GrandPré'],\n",
       "    'average_rating': 4.44,\n",
       "    'id': '2',\n",
       "    'image_url': 'https://images.gr-assets.com/books/1474154022m/3.jpg',\n",
       "    'publication_year': 1997,\n",
       "    'ratings_count': 4602479,\n",
       "    'title': \"Harry Potter and the Philosopher's Stone\"},\n",
       "   'highlight': {'title': {'matched_tokens': ['Harry', 'Potter'],\n",
       "     'snippet': \"<mark>Harry</mark> <mark>Potter</mark> and the Philosopher's Stone\"}},\n",
       "   'highlights': [{'field': 'title',\n",
       "     'matched_tokens': ['Harry', 'Potter'],\n",
       "     'snippet': \"<mark>Harry</mark> <mark>Potter</mark> and the Philosopher's Stone\"}],\n",
       "   'text_match': 1157451471441100921,\n",
       "   'text_match_info': {'best_field_score': '2211897868288',\n",
       "    'best_field_weight': 15,\n",
       "    'fields_matched': 1,\n",
       "    'num_tokens_dropped': 0,\n",
       "    'score': '1157451471441100921',\n",
       "    'tokens_matched': 2,\n",
       "    'typo_prefix_score': 0}}],\n",
       " 'out_of': 9979,\n",
       " 'page': 1,\n",
       " 'request_params': {'collection_name': 'books',\n",
       "  'first_q': 'harry potter',\n",
       "  'per_page': 10,\n",
       "  'q': 'harry potter'},\n",
       " 'search_cutoff': False,\n",
       " 'search_time_ms': 2}"
      ]
     },
     "execution_count": 23,
     "metadata": {},
     "output_type": "execute_result"
    }
   ],
   "source": [
    "search_parameters = {\n",
    "    'q': 'harry potter',\n",
    "    'query_by': 'title, authors',\n",
    "    'sort_by': 'ratings_count:desc',\n",
    "    'filter_by': 'publication_year:<1998'\n",
    "}\n",
    "\n",
    "client.collections['books'].documents.search(search_parameters=search_parameters)"
   ]
  },
  {
   "cell_type": "code",
   "execution_count": 24,
   "id": "d475480f",
   "metadata": {},
   "outputs": [
    {
     "name": "stderr",
     "output_type": "stream",
     "text": [
      "e:\\AgenticAI\\.venv\\Lib\\site-packages\\tqdm\\auto.py:21: TqdmWarning: IProgress not found. Please update jupyter and ipywidgets. See https://ipywidgets.readthedocs.io/en/stable/user_install.html\n",
      "  from .autonotebook import tqdm as notebook_tqdm\n"
     ]
    }
   ],
   "source": [
    "### Langchain + Typsense + Groq LLM + RAG Application\n",
    "\n",
    "from langchain_community.document_loaders import TextLoader\n",
    "from langchain_community.vectorstores import Typesense\n",
    "from langchain_text_splitters import CharacterTextSplitter\n",
    "from langchain.embeddings import HuggingFaceEmbeddings\n",
    "from langchain_groq import ChatGroq"
   ]
  },
  {
   "cell_type": "code",
   "execution_count": 26,
   "metadata": {},
   "outputs": [],
   "source": [
    "groq_api_key = os.getenv(\"GROQ_API_KEY\")"
   ]
  },
  {
   "cell_type": "code",
   "execution_count": 29,
   "id": "5c8558b5",
   "metadata": {},
   "outputs": [
    {
     "name": "stderr",
     "output_type": "stream",
     "text": [
      "C:\\Users\\GOURAV\\AppData\\Local\\Temp\\ipykernel_5424\\512210283.py:6: LangChainDeprecationWarning: The class `HuggingFaceEmbeddings` was deprecated in LangChain 0.2.2 and will be removed in 1.0. An updated version of the class exists in the :class:`~langchain-huggingface package and should be used instead. To use it run `pip install -U :class:`~langchain-huggingface` and import as `from :class:`~langchain_huggingface import HuggingFaceEmbeddings``.\n",
      "  embeddings = HuggingFaceEmbeddings()\n",
      "C:\\Users\\GOURAV\\AppData\\Local\\Temp\\ipykernel_5424\\512210283.py:6: LangChainDeprecationWarning: Default values for HuggingFaceEmbeddings.model_name were deprecated in LangChain 0.2.16 and will be removed in 0.4.0. Explicitly pass a model_name to the HuggingFaceEmbeddings constructor instead.\n",
      "  embeddings = HuggingFaceEmbeddings()\n"
     ]
    }
   ],
   "source": [
    "loader = TextLoader('text.txt')\n",
    "documents = loader.load()\n",
    "text_splitter = CharacterTextSplitter(chunk_size = 1000, chunk_overlap = 100)\n",
    "docs = text_splitter.split_documents(documents=documents)\n",
    "\n",
    "embeddings = HuggingFaceEmbeddings()"
   ]
  },
  {
   "cell_type": "code",
   "execution_count": 30,
   "id": "e5312ec9",
   "metadata": {},
   "outputs": [],
   "source": [
    "docsearch = Typesense.from_documents(\n",
    "    docs,\n",
    "    embeddings,\n",
    "    typesense_client_params = {\n",
    "        'host' : 'cfa0h82do73y6um9p-1.a1.typesense.net',\n",
    "        'protocol': 'https',\n",
    "        'port': '443',\n",
    "        'typesense_api_key': 'WJnmvDQwVYpRRhe9Ur7J9ffZQEhO8Aer',\n",
    "        'typesense_collection_name': 'lang-chain'\n",
    "    },\n",
    "    \n",
    ")"
   ]
  },
  {
   "cell_type": "code",
   "execution_count": 33,
   "id": "67761368",
   "metadata": {},
   "outputs": [
    {
     "name": "stdout",
     "output_type": "stream",
     "text": [
      "Artificial Intelligence\n",
      "\n",
      "Artificial Intelligence (AI) is one of the most transformative technologies of the 21st century. It refers to the ability of machines and computer systems to perform tasks that usually require human intelligence, such as learning, reasoning, problem-solving, perception, and decision-making. AI has become an integral part of modern life, shaping industries, research, and even our daily activities.\n",
      "\n",
      "At its core, AI is the simulation of human intelligence in machines. This involves developing algorithms and models that allow computers to analyze data, recognize patterns, and make decisions. AI can be broadly categorized into two types: Narrow AI and General AI. Narrow AI is designed for specific tasks, such as speech recognition or image classification, while General AI refers to machines that can perform any intellectual task that humans can do â€” a goal that still remains largely theoretical.\n"
     ]
    }
   ],
   "source": [
    "query = 'what is artificial intelligence'\n",
    "found_docs = docsearch.similarity_search(query)\n",
    "print(found_docs[0].page_content)"
   ]
  },
  {
   "cell_type": "code",
   "execution_count": 34,
   "id": "f41f6e05",
   "metadata": {},
   "outputs": [
    {
     "data": {
      "text/plain": [
       "VectorStoreRetriever(tags=['Typesense', 'HuggingFaceEmbeddings'], vectorstore=<langchain_community.vectorstores.typesense.Typesense object at 0x000001ED6FA1F410>, search_kwargs={})"
      ]
     },
     "execution_count": 34,
     "metadata": {},
     "output_type": "execute_result"
    }
   ],
   "source": [
    "retriever = docsearch.as_retriever()\n",
    "retriever"
   ]
  },
  {
   "cell_type": "code",
   "execution_count": 38,
   "id": "26561901",
   "metadata": {},
   "outputs": [
    {
     "name": "stdout",
     "output_type": "stream",
     "text": [
      "In conclusion, Artificial Intelligence is no longer a futuristic concept but a present-day reality. While it offers immense opportunities for progress, it also demands careful management of its risks and ethical implications. The challenge for humanity is to balance innovation with responsibility, ensuring that AI serves as a tool to enhance human life rather than replace it.\n"
     ]
    }
   ],
   "source": [
    "query = 'give the summary of the whole essay'\n",
    "top_doc = retriever.invoke(query)[0]\n",
    "print(top_doc.page_content)"
   ]
  },
  {
   "cell_type": "code",
   "execution_count": null,
   "id": "a5150ac4",
   "metadata": {},
   "outputs": [],
   "source": []
  },
  {
   "cell_type": "code",
   "execution_count": null,
   "id": "ef1ace59",
   "metadata": {},
   "outputs": [],
   "source": []
  },
  {
   "cell_type": "code",
   "execution_count": null,
   "id": "3da7c6b5",
   "metadata": {},
   "outputs": [],
   "source": []
  },
  {
   "cell_type": "code",
   "execution_count": null,
   "id": "540aef91",
   "metadata": {},
   "outputs": [],
   "source": []
  },
  {
   "cell_type": "code",
   "execution_count": null,
   "id": "8e643efd",
   "metadata": {},
   "outputs": [],
   "source": []
  },
  {
   "cell_type": "code",
   "execution_count": null,
   "id": "2dc61253",
   "metadata": {},
   "outputs": [],
   "source": []
  },
  {
   "cell_type": "code",
   "execution_count": null,
   "id": "ee66d4ab",
   "metadata": {},
   "outputs": [],
   "source": []
  },
  {
   "cell_type": "code",
   "execution_count": null,
   "id": "68601e60",
   "metadata": {},
   "outputs": [],
   "source": []
  },
  {
   "cell_type": "code",
   "execution_count": null,
   "id": "0c6fe596",
   "metadata": {},
   "outputs": [],
   "source": []
  }
 ],
 "metadata": {
  "kernelspec": {
   "display_name": "AgenticAI",
   "language": "python",
   "name": "python3"
  },
  "language_info": {
   "codemirror_mode": {
    "name": "ipython",
    "version": 3
   },
   "file_extension": ".py",
   "mimetype": "text/x-python",
   "name": "python",
   "nbconvert_exporter": "python",
   "pygments_lexer": "ipython3",
   "version": "3.12.7"
  }
 },
 "nbformat": 4,
 "nbformat_minor": 5
}
