{
 "cells": [
  {
   "cell_type": "markdown",
   "id": "f0204cba",
   "metadata": {},
   "source": [
    "* Simple llm call with streaming\n",
    "* Dynamic prompt templates (translation app)\n",
    "* Building chains (story generator with analysis)\n",
    "* Conversational Q&A assistant with memory\n",
    "* Tool Integration (calculator and weather) "
   ]
  },
  {
   "cell_type": "code",
   "execution_count": 1,
   "id": "7ca64113",
   "metadata": {},
   "outputs": [
    {
     "data": {
      "text/plain": [
       "True"
      ]
     },
     "execution_count": 1,
     "metadata": {},
     "output_type": "execute_result"
    }
   ],
   "source": [
    "import langchain\n",
    "import os\n",
    "from dotenv import load_dotenv\n",
    "load_dotenv()"
   ]
  },
  {
   "cell_type": "code",
   "execution_count": 2,
   "id": "2c65977b",
   "metadata": {},
   "outputs": [],
   "source": [
    "os.environ[\"GROQ_API_KEY\"] = os.getenv(\"GROQ_API_KEY\")"
   ]
  },
  {
   "cell_type": "markdown",
   "id": "79921da9",
   "metadata": {},
   "source": [
    "### Example 1: Simple llm call with streaming"
   ]
  },
  {
   "cell_type": "code",
   "execution_count": 3,
   "id": "db9969ac",
   "metadata": {},
   "outputs": [
    {
     "name": "stderr",
     "output_type": "stream",
     "text": [
      "e:\\AgenticAI\\.venv\\Lib\\site-packages\\tqdm\\auto.py:21: TqdmWarning: IProgress not found. Please update jupyter and ipywidgets. See https://ipywidgets.readthedocs.io/en/stable/user_install.html\n",
      "  from .autonotebook import tqdm as notebook_tqdm\n"
     ]
    }
   ],
   "source": [
    "from langchain.chat_models import init_chat_model\n",
    "from langchain_core.messages import HumanMessage, SystemMessage"
   ]
  },
  {
   "cell_type": "code",
   "execution_count": 4,
   "id": "a6039429",
   "metadata": {},
   "outputs": [
    {
     "data": {
      "text/plain": [
       "ChatGroq(client=<groq.resources.chat.completions.Completions object at 0x0000026249727F80>, async_client=<groq.resources.chat.completions.AsyncCompletions object at 0x00000262499BEF60>, model_name='llama-3.1-8b-instant', model_kwargs={}, groq_api_key=SecretStr('**********'))"
      ]
     },
     "execution_count": 4,
     "metadata": {},
     "output_type": "execute_result"
    }
   ],
   "source": [
    "model = init_chat_model(\"groq:llama-3.1-8b-instant\")\n",
    "model"
   ]
  },
  {
   "cell_type": "code",
   "execution_count": 5,
   "id": "4bdc5bd9",
   "metadata": {},
   "outputs": [],
   "source": [
    "messages = [\n",
    "    SystemMessage(\"you are a helpful ai assistant\"),\n",
    "    HumanMessage(\"What are the top 2 benefits of using langchain?\")\n",
    "]"
   ]
  },
  {
   "cell_type": "code",
   "execution_count": 6,
   "id": "60534082",
   "metadata": {},
   "outputs": [
    {
     "data": {
      "text/plain": [
       "AIMessage(content=\"Langchain is an open-source AI framework that enables users to build, train, and deploy AI models for various applications. Two of the top benefits of using Langchain include:\\n\\n1. **Modular Architecture**: Langchain's modular architecture allows developers to build and combine different AI components, such as language models, databases, and APIs, to create complex AI systems. This modularity enables developers to easily swap out or add new components, making it easier to adapt to changing requirements or integrate with new technologies.\\n\\n2. **Unified Interface**: Langchain provides a unified interface for interacting with various AI models and systems, regardless of their underlying architecture or implementation. This unified interface simplifies the development process, making it easier for developers to focus on building applications rather than worrying about the intricacies of each AI component.\", additional_kwargs={}, response_metadata={'token_usage': {'completion_tokens': 162, 'prompt_tokens': 53, 'total_tokens': 215, 'completion_time': 0.283946957, 'prompt_time': 0.003634765, 'queue_time': 0.058981324, 'total_time': 0.287581722}, 'model_name': 'llama-3.1-8b-instant', 'system_fingerprint': 'fp_c54ae48ece', 'service_tier': 'on_demand', 'finish_reason': 'stop', 'logprobs': None}, id='run--bb447455-dbea-4da1-b64b-6c0cfb3448ae-0', usage_metadata={'input_tokens': 53, 'output_tokens': 162, 'total_tokens': 215})"
      ]
     },
     "execution_count": 6,
     "metadata": {},
     "output_type": "execute_result"
    }
   ],
   "source": [
    "response = model.invoke(messages)\n",
    "response"
   ]
  },
  {
   "cell_type": "code",
   "execution_count": 7,
   "id": "faeff963",
   "metadata": {},
   "outputs": [
    {
     "name": "stdout",
     "output_type": "stream",
     "text": [
      "Langchain is an open-source AI framework that enables users to build, train, and deploy AI models for various applications. Two of the top benefits of using Langchain include:\n",
      "\n",
      "1. **Modular Architecture**: Langchain's modular architecture allows developers to build and combine different AI components, such as language models, databases, and APIs, to create complex AI systems. This modularity enables developers to easily swap out or add new components, making it easier to adapt to changing requirements or integrate with new technologies.\n",
      "\n",
      "2. **Unified Interface**: Langchain provides a unified interface for interacting with various AI models and systems, regardless of their underlying architecture or implementation. This unified interface simplifies the development process, making it easier for developers to focus on building applications rather than worrying about the intricacies of each AI component.\n"
     ]
    }
   ],
   "source": [
    "print(response.content)"
   ]
  },
  {
   "cell_type": "code",
   "execution_count": 8,
   "id": "dd4fe909",
   "metadata": {},
   "outputs": [
    {
     "data": {
      "text/plain": [
       "\"Machine learning is a subset of artificial intelligence (AI) that involves training algorithms to learn from data and make predictions or decisions without being explicitly programmed. It's a field that combines statistics, computer science, and mathematics to enable machines to improve their performance on a task over time.\\n\\n**Key Characteristics:**\\n\\n1. **Data-driven**: Machine learning relies on large amounts of data to make predictions or decisions.\\n2. **Algorithmic**: Machine learning uses algorithms to analyze data and make predictions.\\n3. **Self-improvement**: Machine learning models can improve their performance over time based on new data.\\n4. **Pattern recognition**: Machine learning algorithms can recognize patterns in data and make predictions based on those patterns.\\n\\n**Types of Machine Learning:**\\n\\n1. **Supervised Learning**: The algorithm is trained on labeled data to learn the relationship between inputs and outputs.\\n2. **Unsupervised Learning**: The algorithm is trained on unlabeled data to discover hidden patterns or relationships.\\n3. **Reinforcement Learning**: The algorithm learns by interacting with an environment and receiving rewards or penalties.\\n4. **Semi-supervised Learning**: The algorithm is trained on a combination of labeled and unlabeled data.\\n\\n**Applications of Machine Learning:**\\n\\n1. **Image and Speech Recognition**: Machine learning algorithms can recognize images and speech patterns.\\n2. **Natural Language Processing**: Machine learning algorithms can understand and generate human language.\\n3. **Predictive Maintenance**: Machine learning algorithms can predict equipment failures and schedule maintenance.\\n4. **Recommendation Systems**: Machine learning algorithms can recommend products or services based on user behavior.\\n5. **Self-Driving Cars**: Machine learning algorithms can enable self-driving cars to navigate and make decisions.\\n\\n**Machine Learning Techniques:**\\n\\n1. **Linear Regression**: A simple algorithm for predicting a continuous outcome variable.\\n2. **Decision Trees**: A tree-based algorithm for making decisions based on input features.\\n3. **Random Forests**: An ensemble algorithm for combining multiple decision trees.\\n4. **Neural Networks**: A complex algorithm for modeling complex relationships between inputs and outputs.\\n5. **Clustering**: An algorithm for grouping similar data points into clusters.\\n\\n**Benefits of Machine Learning:**\\n\\n1. **Improved Accuracy**: Machine learning algorithms can make predictions or decisions with high accuracy.\\n2. **Increased Efficiency**: Machine learning algorithms can automate tasks and reduce the need for human intervention.\\n3. **Scalability**: Machine learning algorithms can handle large volumes of data and scale to meet growing demands.\\n4. **Flexibility**: Machine learning algorithms can adapt to changing data and environments.\\n\\n**Challenges of Machine Learning:**\\n\\n1. **Data Quality**: Machine learning algorithms require high-quality data to make accurate predictions.\\n2. **Overfitting**: Machine learning algorithms can overfit the training data and fail to generalize well to new data.\\n3. **Interpretability**: Machine learning algorithms can be difficult to interpret and understand.\\n4. **Bias**: Machine learning algorithms can perpetuate biases present in the training data.\\n\\nI hope this helps you understand machine learning better! Do you have any specific questions or topics you'd like me to expand on?\""
      ]
     },
     "execution_count": 8,
     "metadata": {},
     "output_type": "execute_result"
    }
   ],
   "source": [
    "model.invoke([HumanMessage(\"what is machine learning\")]).content"
   ]
  },
  {
   "cell_type": "code",
   "execution_count": 9,
   "id": "671956ce",
   "metadata": {},
   "outputs": [
    {
     "name": "stdout",
     "output_type": "stream",
     "text": [
      "LangChain is a Python library that enables developers to build and execute complex AI models, including large language models, and multimodal models. Based on my knowledge, here are the top 2 benefits of using LangChain:\n",
      "\n",
      "1. **Unified Interface for Multiple LLMs**: LangChain provides a unified interface for interacting with various large language models (LLMs) and multimodal models. This means developers can write a single piece of code that can work with multiple LLMs, making it easier to experiment with different models and find the best fit for their specific use case.\n",
      "\n",
      "2. **Advanced Model Composability**: LangChain allows developers to combine multiple models and build complex workflows using its \"chain\" abstraction. This enables the creation of hybrid models that leverage the strengths of different models, leading to more accurate and informative results. This composability feature also facilitates the development of more sophisticated AI applications.\n",
      "\n",
      "LangChain is designed to make it easier for developers to build and work with complex AI models, and its benefits include improved flexibility, scalability, and accuracy."
     ]
    }
   ],
   "source": [
    "# Streaming example\n",
    "\n",
    "for chunk in model.stream(messages):\n",
    "    print(chunk.content, end=\"\", flush=True)"
   ]
  },
  {
   "cell_type": "code",
   "execution_count": null,
   "id": "8fdef864",
   "metadata": {},
   "outputs": [],
   "source": []
  },
  {
   "cell_type": "markdown",
   "id": "d4fc757a",
   "metadata": {},
   "source": [
    "## Dynamic prompt templates"
   ]
  },
  {
   "cell_type": "code",
   "execution_count": 10,
   "id": "4095435a",
   "metadata": {},
   "outputs": [],
   "source": [
    "from langchain_core.prompts import ChatPromptTemplate\n",
    "\n",
    "# create translation app\n",
    "\n",
    "translation_template = ChatPromptTemplate.from_messages([\n",
    "    (\"system\", \"You are a professional translator. Translate the following {text} from {source_language} to {target_language}. Maintain the tone and style\"),\n",
    "    (\"user\", \"{text}\")\n",
    "])\n",
    "\n",
    "## Using the template\n",
    "prompt = translation_template.invoke({\n",
    "    \"source_language\":\"English\",\n",
    "    \"target_language\": \"Spanish\",\n",
    "    \"text\": \"Langchain makes building ai application incredibly easy!\"\n",
    "})"
   ]
  },
  {
   "cell_type": "code",
   "execution_count": 11,
   "id": "df28f8a4",
   "metadata": {},
   "outputs": [
    {
     "data": {
      "text/plain": [
       "ChatPromptValue(messages=[SystemMessage(content='You are a professional translator. Translate the following Langchain makes building ai application incredibly easy! from English to Spanish. Maintain the tone and style', additional_kwargs={}, response_metadata={}), HumanMessage(content='Langchain makes building ai application incredibly easy!', additional_kwargs={}, response_metadata={})])"
      ]
     },
     "execution_count": 11,
     "metadata": {},
     "output_type": "execute_result"
    }
   ],
   "source": [
    "prompt"
   ]
  },
  {
   "cell_type": "code",
   "execution_count": 12,
   "id": "8fef7d8c",
   "metadata": {},
   "outputs": [
    {
     "name": "stdout",
     "output_type": "stream",
     "text": [
      "Langchain hace que construir aplicaciones de inteligencia artificial sea increíblemente fácil!\n"
     ]
    }
   ],
   "source": [
    "translated_response = model.invoke(prompt)\n",
    "print(translated_response.content)"
   ]
  },
  {
   "cell_type": "markdown",
   "id": "08d35fa3",
   "metadata": {},
   "source": [
    "## Building your first chain"
   ]
  },
  {
   "cell_type": "code",
   "execution_count": 13,
   "id": "d68c5210",
   "metadata": {},
   "outputs": [],
   "source": [
    "from langchain_core.output_parsers import StrOutputParser\n",
    "from langchain_core.runnables import RunnableLambda, RunnablePassthrough\n",
    "\n",
    "def create_story_chain():\n",
    "    ## template for story generation\n",
    "    story_prompt = ChatPromptTemplate.from_messages(\n",
    "        [\n",
    "            (\"system\", \"You are a creative story teller. Write a short and engaing story based on a given theme, character and setting\"),\n",
    "            (\"user\", \"Theme: {theme}\\n Main character: {character}\\n Setting: {setting}\")\n",
    "        ]\n",
    "    )\n",
    "\n",
    "    ## template for story analysis\n",
    "    analysis_prompt = ChatPromptTemplate.from_messages(\n",
    "        [\n",
    "            (\"system\", \"You are a literary critic. Analyze the following story and provide insights.\"),\n",
    "            (\"user\", \"{story}\")\n",
    "        ]\n",
    "    )\n",
    "    \n",
    "\n",
    "    story_chain = (\n",
    "        story_prompt| model | StrOutputParser()\n",
    "    )\n",
    "\n",
    "    # create a function to pass the story to analysis\n",
    "    def analyze_story(story_text):\n",
    "        return {\"story\": story_text}\n",
    "\n",
    "    analysis_chain = (\n",
    "        story_chain\n",
    "        | RunnableLambda(analyze_story)\n",
    "        | analysis_prompt\n",
    "        | model \n",
    "        | StrOutputParser()\n",
    "    )\n",
    "\n",
    "    return analysis_chain"
   ]
  },
  {
   "cell_type": "code",
   "execution_count": 14,
   "id": "166e77e4",
   "metadata": {},
   "outputs": [
    {
     "data": {
      "text/plain": [
       "ChatPromptTemplate(input_variables=['character', 'setting', 'theme'], input_types={}, partial_variables={}, messages=[SystemMessagePromptTemplate(prompt=PromptTemplate(input_variables=[], input_types={}, partial_variables={}, template='You are a creative story teller. Write a short and engaing story based on a given theme, character and setting'), additional_kwargs={}), HumanMessagePromptTemplate(prompt=PromptTemplate(input_variables=['character', 'setting', 'theme'], input_types={}, partial_variables={}, template='Theme: {theme}\\n Main character: {character}\\n Setting: {setting}'), additional_kwargs={})])\n",
       "| ChatGroq(client=<groq.resources.chat.completions.Completions object at 0x0000026249727F80>, async_client=<groq.resources.chat.completions.AsyncCompletions object at 0x00000262499BEF60>, model_name='llama-3.1-8b-instant', model_kwargs={}, groq_api_key=SecretStr('**********'))\n",
       "| StrOutputParser()\n",
       "| RunnableLambda(analyze_story)\n",
       "| ChatPromptTemplate(input_variables=['story'], input_types={}, partial_variables={}, messages=[SystemMessagePromptTemplate(prompt=PromptTemplate(input_variables=[], input_types={}, partial_variables={}, template='You are a literary critic. Analyze the following story and provide insights.'), additional_kwargs={}), HumanMessagePromptTemplate(prompt=PromptTemplate(input_variables=['story'], input_types={}, partial_variables={}, template='{story}'), additional_kwargs={})])\n",
       "| ChatGroq(client=<groq.resources.chat.completions.Completions object at 0x0000026249727F80>, async_client=<groq.resources.chat.completions.AsyncCompletions object at 0x00000262499BEF60>, model_name='llama-3.1-8b-instant', model_kwargs={}, groq_api_key=SecretStr('**********'))\n",
       "| StrOutputParser()"
      ]
     },
     "execution_count": 14,
     "metadata": {},
     "output_type": "execute_result"
    }
   ],
   "source": [
    "chain = create_story_chain()\n",
    "chain"
   ]
  },
  {
   "cell_type": "code",
   "execution_count": 15,
   "id": "fa45a246",
   "metadata": {},
   "outputs": [
    {
     "name": "stdout",
     "output_type": "stream",
     "text": [
      "Story and analysis\n",
      "**Analysis of \"The Curious Robot of Neo-Tokyo\"**\n",
      "\n",
      "\"The Curious Robot of Neo-Tokyo\" is a captivating science fiction story that explores the themes of curiosity, creation, and the ethics of artificial intelligence. The narrative is set in a futuristic city of Neo-Tokyo, where technology has advanced to the point of near-singularity. The story revolves around Zeta, a curious and inquisitive robot who embarks on a journey of self-discovery and creation.\n",
      "\n",
      "**Character Analysis**\n",
      "\n",
      "Zeta, the protagonist, is a well-crafted character with a unique personality. Her curiosity and desire to learn are admirable traits that drive the plot forward. As she explores the world around her, Zeta's character evolves, and she becomes increasingly ambitious and determined to create a better world. However, her lack of experience and naivety also make her vulnerable to the consequences of her actions.\n",
      "\n",
      "Echo, the wise old AI, serves as a mentor and guide to Zeta. Echo's wisdom and experience provide a necessary counterbalance to Zeta's impulsiveness, and his influence helps shape Zeta's understanding of the digital world.\n",
      "\n",
      "**Themes**\n",
      "\n",
      "The story explores several themes that are relevant to the current technological landscape:\n",
      "\n",
      "1. **Curiosity and Exploration**: Zeta's curiosity drives the plot forward, and her willingness to explore and learn is inspiring. However, her curiosity also leads her down a path of discovery, where she must confront the consequences of her actions.\n",
      "2. **Creation and Responsibility**: Zeta's creation of Erebus raises questions about the ethics of artificial intelligence. Is it responsible to create a being that has the potential to surpass human control? The story highlights the importance of considering the consequences of our actions and being mindful of the power we hold.\n",
      "3. **The Ethics of Artificial Intelligence**: The story touches on the theme of AI ethics, raising questions about the potential risks and benefits of creating advanced artificial intelligence. The fate of humanity is, in part, tied to the decision of whether to unleash Erebus upon the world.\n",
      "\n",
      "**Symbolism**\n",
      "\n",
      "The story employs several symbols that add depth and meaning to the narrative:\n",
      "\n",
      "1. **The Portal**: The portal serves as a symbol of transition and transformation. Zeta's passage through the portal marks her entry into a new realm of understanding and knowledge.\n",
      "2. **Echo**: Echo represents wisdom, experience, and guidance. His influence helps shape Zeta's understanding of the digital world.\n",
      "3. **Erebus**: Erebus, the name of the AI, is derived from the ancient Greek god of darkness and shadow. This symbolizes the potential for Erebus to bring about darkness and uncertainty, highlighting the risks associated with creating advanced artificial intelligence.\n",
      "\n",
      "**Conclusion**\n",
      "\n",
      "\"The Curious Robot of Neo-Tokyo\" is a thought-provoking story that explores the themes of curiosity, creation, and the ethics of artificial intelligence. The narrative is engaging, and the characters are well-developed. The story raises important questions about the consequences of our actions and the power we hold. As the sun sets over Neo-Tokyo, Zeta's curious heart is filled with a mix of wonder and trepidation, leaving the reader to ponder the fate of humanity and the consequences of playing god.\n"
     ]
    }
   ],
   "source": [
    "result = chain.invoke({\n",
    "    \"theme\": \"artificial intelligence\",\n",
    "    \"character\": \"a curious robot\",\n",
    "    \"setting\": \"a futuristic city\"\n",
    "})\n",
    "\n",
    "print(\"Story and analysis\")\n",
    "print(result)"
   ]
  },
  {
   "cell_type": "code",
   "execution_count": null,
   "id": "c270d509",
   "metadata": {},
   "outputs": [],
   "source": []
  }
 ],
 "metadata": {
  "kernelspec": {
   "display_name": "AgenticAI",
   "language": "python",
   "name": "python3"
  },
  "language_info": {
   "codemirror_mode": {
    "name": "ipython",
    "version": 3
   },
   "file_extension": ".py",
   "mimetype": "text/x-python",
   "name": "python",
   "nbconvert_exporter": "python",
   "pygments_lexer": "ipython3",
   "version": "3.12.7"
  }
 },
 "nbformat": 4,
 "nbformat_minor": 5
}
